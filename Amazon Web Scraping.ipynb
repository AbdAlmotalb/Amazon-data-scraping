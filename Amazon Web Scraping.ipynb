{
 "cells": [
  {
   "cell_type": "code",
   "execution_count": 62,
   "id": "dcff8217",
   "metadata": {},
   "outputs": [],
   "source": [
    "import pandas as pd\n",
    "import requests\n",
    "from bs4 import BeautifulSoup \n",
    "import time\n",
    "import datetime\n",
    "import smtplib \n",
    "import csv"
   ]
  },
  {
   "cell_type": "code",
   "execution_count": 75,
   "id": "8ac94c3e",
   "metadata": {},
   "outputs": [],
   "source": [
    "f_input=pd.read_excel(r\"C:\\Users\\Administrator\\Downloads\\amazon_labtop.xlsx\")\n",
    "headers= {\"User-Agent\": \"Mozilla/5.0 (Windows NT 10.0; Win64; x64) AppleWebKit/537.36 (KHTML, like Gecko) Chrome/126.0.0.0 Safari/537.36\"}\n",
    "date=datetime.date.today()"
   ]
  },
  {
   "cell_type": "code",
   "execution_count": 82,
   "id": "bab960ae",
   "metadata": {},
   "outputs": [
    {
     "name": "stdout",
     "output_type": "stream",
     "text": [
      "Product title not found.\n",
      "Product Title: 14 Inch 2 in 1 Tablet 16GB DDR4 1TB NVMe SSD Touchscreen Display Gaming Laptop 2K IPS FHD(1920x1200) Intel Alder Lake N95 CPU,Windows 11 Pro/Type-C/BT5.0/Portable Study Work PC\n",
      "Product price: 499.\n",
      "Product title not found.\n",
      "Product title not found.\n",
      "Product title not found.\n",
      "Product Title: L LIMINK LK16 Portable Triple Monitor for 15-17.3 Inch Laptop, 16\" FHD 1200P Frameless Al Alloy Triple Screen Laptop Monitor Extender with USB/HDMI, Tri-screen Laptop Screen Extender for Mac & Win\n",
      "Product price: 899.\n",
      "Product title not found.\n",
      "Product title not found.\n",
      "Product title not found.\n",
      "Product title not found.\n",
      "Product Title: 16\" Laptop 12+512GB Celeron N5095 (Up to 2.9Ghz) 4-Core Win 11 PC with Cooling Fan 1920 * 1200 2K Screen Dual WiFi Support 2.5\" HDD 1TB SSD Expand for Business Study-Purple\n",
      "Product price: 389.\n",
      "Product title not found.\n",
      "Product title not found.\n",
      "Product title not found.\n",
      "Product title not found.\n",
      "{'14 Inch 2 in 1 Tablet 16GB DDR4 1TB NVMe SSD Touchscreen Display Gaming Laptop 2K IPS FHD(1920x1200) Intel Alder Lake N95 CPU,Windows 11 Pro/Type-C/BT5.0/Portable Study Work PC': {'Price': '499.', 'URL': 'https://www.amazon.com/sspa/click?ie=UTF8&spc=MTo2NTY2MjM3MjU3NDE0NDE2OjE3MTg5MDk3ODk6c3BfYXRmOjMwMDE4NDQxOTAxNDcwMjo6MDo6&url=%2FNmybwo-Touchscreen-Display-1920x1200-Portable%2Fdp%2FB0CS5MJ82X%2Fref%3Dsr_1_2_sspa%3Fdib%3DeyJ2IjoiMSJ9.0S0CzbnLxwZ4_dDSN987lig29FxdEZM2hDb8nzHyDt7lw1TiesHHXGWgFVcXD7r0VStDUKB2y6JGYqjIfrxhF3FsYTcgFOWdl48fC4tVs1qKCmrBb2dudRmhSxzZu5NLEni1QVVhlp5vGrKNNfkwsGoHcrqdD-RDM-TXYlrqu732bSIbnPAF93g1z-guIcAHY4xBDufeMfxO6jS7y-6aJEFQRTPHwRBbsXVnVdqL_Ew.wPydGVTDOPn6IwDUoM9g3C1ixWjIymuFzpR-rzUz4fo%26dib_tag%3Dse%26keywords%3Dlaptop%26qid%3D1718909789%26sr%3D8-2-spons%26sp_csd%3Dd2lkZ2V0TmFtZT1zcF9hdGY%26psc%3D1'}, 'L LIMINK LK16 Portable Triple Monitor for 15-17.3 Inch Laptop, 16\" FHD 1200P Frameless Al Alloy Triple Screen Laptop Monitor Extender with USB/HDMI, Tri-screen Laptop Screen Extender for Mac & Win': {'Price': '899.', 'URL': 'https://www.amazon.com/sspa/click?ie=UTF8&spc=MTo2NTY2MjM3MjU3NDE0NDE2OjE3MTg5MDk3ODk6c3BfbXRmOjMwMDIxOTU3NzMzNjQwMjo6MDo6&url=%2FLIMINK-Extender-Portable-Compatible-Home-LK16%2Fdp%2FB0CNW6V2KD%2Fref%3Dsr_1_7_sspa%3Fdib%3DeyJ2IjoiMSJ9.0S0CzbnLxwZ4_dDSN987lig29FxdEZM2hDb8nzHyDt7lw1TiesHHXGWgFVcXD7r0VStDUKB2y6JGYqjIfrxhF3FsYTcgFOWdl48fC4tVs1qKCmrBb2dudRmhSxzZu5NLEni1QVVhlp5vGrKNNfkwsGoHcrqdD-RDM-TXYlrqu732bSIbnPAF93g1z-guIcAHY4xBDufeMfxO6jS7y-6aJEFQRTPHwRBbsXVnVdqL_Ew.wPydGVTDOPn6IwDUoM9g3C1ixWjIymuFzpR-rzUz4fo%26dib_tag%3Dse%26keywords%3Dlaptop%26qid%3D1718909789%26sr%3D8-7-spons%26sp_csd%3Dd2lkZ2V0TmFtZT1zcF9tdGY%26psc%3D1'}, '16\" Laptop 12+512GB Celeron N5095 (Up to 2.9Ghz) 4-Core Win 11 PC with Cooling Fan 1920 * 1200 2K Screen Dual WiFi Support 2.5\" HDD 1TB SSD Expand for Business Study-Purple': {'Price': '389.', 'URL': 'https://www.amazon.com/sspa/click?ie=UTF8&spc=MTo2NTY2MjM3MjU3NDE0NDE2OjE3MTg5MDk3ODk6c3BfbXRmOjMwMDIzMjU1NzM5NDcwMjo6MDo6&url=%2FRuzava-Celeron-Cooling-Support-Study-Purple%2Fdp%2FB0C43M8CFX%2Fref%3Dsr_1_12_sspa%3Fdib%3DeyJ2IjoiMSJ9.0S0CzbnLxwZ4_dDSN987lig29FxdEZM2hDb8nzHyDt7lw1TiesHHXGWgFVcXD7r0VStDUKB2y6JGYqjIfrxhF3FsYTcgFOWdl48fC4tVs1qKCmrBb2dudRmhSxzZu5NLEni1QVVhlp5vGrKNNfkwsGoHcrqdD-RDM-TXYlrqu732bSIbnPAF93g1z-guIcAHY4xBDufeMfxO6jS7y-6aJEFQRTPHwRBbsXVnVdqL_Ew.wPydGVTDOPn6IwDUoM9g3C1ixWjIymuFzpR-rzUz4fo%26dib_tag%3Dse%26keywords%3Dlaptop%26qid%3D1718909789%26sr%3D8-12-spons%26sp_csd%3Dd2lkZ2V0TmFtZT1zcF9tdGY%26psc%3D1'}}\n"
     ]
    }
   ],
   "source": [
    "titles={}\n",
    "# Iterate over each row in the DataFrame\n",
    "for n in range(f_input.shape[0]):\n",
    "    # Get the URL from the Excel file\n",
    "    url = f_input.loc[n, 'Link']\n",
    "\n",
    "    # Request the page\n",
    "    page = requests.get(url, headers=headers)\n",
    "    soup = BeautifulSoup(page.content, 'html.parser')\n",
    "    soup = BeautifulSoup(soup.prettify(), \"html.parser\")\n",
    "\n",
    "    # Find the product title\n",
    "    product_title_elem = soup.find(id='productTitle')\n",
    "    if product_title_elem:\n",
    "        product_title = product_title_elem.get_text(strip=True)\n",
    "        print(\"Product Title:\", product_title)\n",
    "    else:\n",
    "        print(\"Product title not found.\")\n",
    "        continue  # Skip to the next iteration if the title is not found\n",
    "\n",
    "    # Find the product price\n",
    "    product_price_elem = soup.find(class_=\"a-price-whole\")\n",
    "    if not product_price_elem:\n",
    "        product_price_elem = soup.find(class_='a-offscreen')\n",
    "\n",
    "    if product_price_elem:\n",
    "        product_price = product_price_elem.get_text(strip=True)\n",
    "        print(\"Product price:\", product_price)\n",
    "    else:\n",
    "        print(\"Product price not found.\")\n",
    "        product_price =\"not found\"\n",
    "    # Find the product URL (if not already retrieved)\n",
    "    if product_title not in titles:\n",
    "        product_url = url\n",
    "    else:\n",
    "        product_url = titles[product_title][1]\n",
    "\n",
    "    # Add the product title, price, and URL to the dictionary\n",
    "    titles[product_title] = {\"Price\": product_price, \"URL\": product_url}\n",
    "    \n",
    "# Output the dictionary\n",
    "print(titles)\n",
    "\n"
   ]
  },
  {
   "cell_type": "code",
   "execution_count": null,
   "id": "026fdf72",
   "metadata": {},
   "outputs": [],
   "source": []
  },
  {
   "cell_type": "code",
   "execution_count": null,
   "id": "026c76f3",
   "metadata": {},
   "outputs": [],
   "source": []
  },
  {
   "cell_type": "code",
   "execution_count": 84,
   "id": "13b28834",
   "metadata": {},
   "outputs": [],
   "source": [
    "# Convert the titles dictionary to a list of dictionaries with \"URL\" and \"Date\" included\n",
    "titles_list = [{\"Name\": name, \"Price\": product[\"Price\"], \"URL\": product[\"URL\"], \"Date\": date} for name, product in titles.items()]\n",
    "\n",
    "# Write the list of dictionaries to a CSV file\n",
    "with open(r\"C:\\Users\\Administrator\\Downloads\\amazon_Labtops_prices.csv\", 'w', newline='', encoding='utf-8') as csvfile:\n",
    "    # Creating a csv dict writer object\n",
    "    fieldnames = [\"Name\", \"Price\", \"URL\", \"Date\"]\n",
    "    writer = csv.DictWriter(csvfile, fieldnames=fieldnames)\n",
    "\n",
    "    # Writing headers (field names)\n",
    "    writer.writeheader()\n",
    "\n",
    "    # Writing data rows\n",
    "    writer.writerows(titles_list)"
   ]
  },
  {
   "cell_type": "code",
   "execution_count": null,
   "id": "a10cef2e",
   "metadata": {},
   "outputs": [],
   "source": []
  },
  {
   "cell_type": "code",
   "execution_count": null,
   "id": "e405bdd6",
   "metadata": {},
   "outputs": [],
   "source": []
  },
  {
   "cell_type": "code",
   "execution_count": null,
   "id": "9a897471",
   "metadata": {},
   "outputs": [],
   "source": []
  },
  {
   "cell_type": "code",
   "execution_count": null,
   "id": "e1d6be8d",
   "metadata": {},
   "outputs": [],
   "source": []
  },
  {
   "cell_type": "code",
   "execution_count": null,
   "id": "c38b971f",
   "metadata": {},
   "outputs": [],
   "source": []
  },
  {
   "cell_type": "code",
   "execution_count": null,
   "id": "728bbcbd",
   "metadata": {},
   "outputs": [],
   "source": []
  },
  {
   "cell_type": "code",
   "execution_count": null,
   "id": "a302bb65",
   "metadata": {},
   "outputs": [],
   "source": []
  },
  {
   "cell_type": "code",
   "execution_count": null,
   "id": "62488ac1",
   "metadata": {},
   "outputs": [],
   "source": []
  },
  {
   "cell_type": "code",
   "execution_count": null,
   "id": "89701348",
   "metadata": {},
   "outputs": [],
   "source": []
  },
  {
   "cell_type": "code",
   "execution_count": null,
   "id": "483cd471",
   "metadata": {},
   "outputs": [],
   "source": []
  },
  {
   "cell_type": "code",
   "execution_count": null,
   "id": "d041d93c",
   "metadata": {},
   "outputs": [],
   "source": []
  },
  {
   "cell_type": "code",
   "execution_count": null,
   "id": "04fdc037",
   "metadata": {},
   "outputs": [],
   "source": []
  },
  {
   "cell_type": "code",
   "execution_count": null,
   "id": "495e072f",
   "metadata": {},
   "outputs": [],
   "source": []
  },
  {
   "cell_type": "code",
   "execution_count": null,
   "id": "a841de6c",
   "metadata": {},
   "outputs": [],
   "source": []
  },
  {
   "cell_type": "code",
   "execution_count": null,
   "id": "a4850748",
   "metadata": {},
   "outputs": [],
   "source": []
  },
  {
   "cell_type": "code",
   "execution_count": null,
   "id": "636bd7e6",
   "metadata": {},
   "outputs": [],
   "source": []
  },
  {
   "cell_type": "code",
   "execution_count": null,
   "id": "482c639e",
   "metadata": {},
   "outputs": [],
   "source": []
  },
  {
   "cell_type": "code",
   "execution_count": null,
   "id": "7e25a3ee",
   "metadata": {},
   "outputs": [],
   "source": []
  },
  {
   "cell_type": "code",
   "execution_count": 35,
   "id": "3f1e34fe",
   "metadata": {},
   "outputs": [
    {
     "data": {
      "text/plain": [
       "15"
      ]
     },
     "execution_count": 35,
     "metadata": {},
     "output_type": "execute_result"
    }
   ],
   "source": [
    "titles={}\n",
    "for n in f_input.size:\n",
    "    page=requests.get(f_input.loc[n,'Link'],headers=headers)\n",
    "    soup=BeautifulSoup(page.content,'html.parser')\n",
    "    soup2=BeautifulSoup(soup.prettify(), \"html.parser\")\n",
    "\n",
    "    # Find the product title\n",
    "    product_title_elem = soup2.find(id='productTitle')\n",
    "    product_title = product_title_elem.get_text(strip=True)\n",
    "    print(\"Product Title:\", product_title)\n",
    "    # Find the product price\n",
    "    product_price_elem = soup2.find(class_=\"a-price-decimal\")\n",
    "    product_price = product_title_elem.get_text(strip=True)\n",
    "    print(\"Product Title:\", product_title)\n",
    "    if product_title not in titles.keys():\n",
    "         titles[product_title] = product_price\n",
    "        \n"
   ]
  },
  {
   "cell_type": "code",
   "execution_count": 9,
   "id": "23ac8be2",
   "metadata": {},
   "outputs": [
    {
     "name": "stdout",
     "output_type": "stream",
     "text": [
      "Product Title: L LIMINK LK16 Portable Triple Monitor for 15-17.3 Inch Laptop, 16\" FHD 1200P Frameless Al Alloy Triple Screen Laptop Monitor Extender with USB/HDMI, Tri-screen Laptop Screen Extender for Mac & Win\n",
      "Product price: 899.\n"
     ]
    }
   ],
   "source": [
    "titles={}\n",
    "page=requests.get(f_input.loc[5,'Link'],headers=headers)\n",
    "soup=BeautifulSoup(page.content,'html.parser')\n",
    "soup2=BeautifulSoup(soup.prettify(), \"html.parser\")\n",
    "\n",
    "# Find the product title\n",
    "product_title_elem = soup2.find(id='productTitle')\n",
    "product_title = product_title_elem.get_text(strip=True)\n",
    "print(\"Product Title:\", product_title)\n",
    "# Find the product price\n",
    "product_price_elem = soup2.find(class_=\"a-price-whole\")\n",
    "product_price = product_price_elem.get_text(strip=True)\n",
    "print(\"Product price:\", product_price)\n",
    "if product_title not in titles.keys():\n",
    "     titles[product_title] = product_price"
   ]
  },
  {
   "cell_type": "code",
   "execution_count": null,
   "id": "bc61a9bd",
   "metadata": {},
   "outputs": [],
   "source": []
  },
  {
   "cell_type": "code",
   "execution_count": 23,
   "id": "e09941a9",
   "metadata": {},
   "outputs": [
    {
     "name": "stdout",
     "output_type": "stream",
     "text": [
      "<class 'bs4.element.Tag'>\n"
     ]
    },
    {
     "data": {
      "text/plain": [
       "<span class=\"a-price-whole\">\n",
       "                            899\n",
       "                            <span class=\"a-price-decimal\">\n",
       "                             .\n",
       "                            </span>\n",
       "</span>"
      ]
     },
     "execution_count": 23,
     "metadata": {},
     "output_type": "execute_result"
    }
   ],
   "source": [
    "product_price = product_price_elem.get_text(strip=True).rstrip(\".\")\n",
    "print(type(product_price_elem))\n",
    "product_price_elem"
   ]
  },
  {
   "cell_type": "code",
   "execution_count": 50,
   "id": "ffe97b20",
   "metadata": {},
   "outputs": [
    {
     "ename": "AttributeError",
     "evalue": "'NoneType' object has no attribute 'get_text'",
     "output_type": "error",
     "traceback": [
      "\u001b[1;31m---------------------------------------------------------------------------\u001b[0m",
      "\u001b[1;31mAttributeError\u001b[0m                            Traceback (most recent call last)",
      "Cell \u001b[1;32mIn[50], line 7\u001b[0m\n\u001b[0;32m      5\u001b[0m \u001b[38;5;66;03m# Find the product title\u001b[39;00m\n\u001b[0;32m      6\u001b[0m product_title_elem \u001b[38;5;241m=\u001b[39m soup2\u001b[38;5;241m.\u001b[39mfind(\u001b[38;5;28mid\u001b[39m\u001b[38;5;241m=\u001b[39m\u001b[38;5;124m'\u001b[39m\u001b[38;5;124mproductTitle\u001b[39m\u001b[38;5;124m'\u001b[39m)    \n\u001b[1;32m----> 7\u001b[0m product_title \u001b[38;5;241m=\u001b[39m product_title_elem\u001b[38;5;241m.\u001b[39mget_text(strip\u001b[38;5;241m=\u001b[39m\u001b[38;5;28;01mTrue\u001b[39;00m)\n\u001b[0;32m      8\u001b[0m \u001b[38;5;28mprint\u001b[39m(\u001b[38;5;124m\"\u001b[39m\u001b[38;5;124mProduct Title:\u001b[39m\u001b[38;5;124m\"\u001b[39m, product_title_elem)\n\u001b[0;32m     10\u001b[0m \u001b[38;5;66;03m# Find the product price\u001b[39;00m\n",
      "\u001b[1;31mAttributeError\u001b[0m: 'NoneType' object has no attribute 'get_text'"
     ]
    }
   ],
   "source": [
    "import re\n",
    "page=requests.get(f_input.loc[14,'Link'],headers=headers)\n",
    "soup=BeautifulSoup(page.content,'html.parser')\n",
    "soup2=BeautifulSoup(soup.prettify(), \"html.parser\")\n",
    "# Find the product title\n",
    "product_title_elem = soup2.find(id='productTitle')    \n",
    "product_title = product_title_elem.get_text(strip=True)\n",
    "print(\"Product Title:\", product_title_elem)\n",
    "\n",
    "# Find the product price\n",
    "product_price_elem = soup2.find(class_=\"a-price-whole\")\n",
    "if not product_price_elem:\n",
    "    product_price_elem = soup2.find(class_='a-offscreen')\n",
    "\n",
    "product_price = product_price_elem.get_text(strip=True)\n",
    "print(\"Product price:\", product_price)\n",
    "\n",
    "#price_elements = soup2.find_all(class_=re.compile(r'\\bprice\\b', re.IGNORECASE))\n",
    "#for element in price_elements:\n",
    "#    print(element.get_text(strip=True))"
   ]
  },
  {
   "cell_type": "code",
   "execution_count": 59,
   "id": "3b66e8bb",
   "metadata": {},
   "outputs": [
    {
     "name": "stdout",
     "output_type": "stream",
     "text": [
      "Product Title: HP 17 Business Laptop, 17.3” HD+ Screen, Intel Core i3-1125G4 Processor, 32GB RAM, 2TB SSD, Webcam, Wi-Fi, HDMI, Windows 11 Pro, Silver\n",
      "Product price: 572.\n"
     ]
    }
   ],
   "source": [
    "import requests\n",
    "from bs4 import BeautifulSoup\n",
    "\n",
    "# Define the headers\n",
    "headers = {\n",
    "    \"User-Agent\": \"Mozilla/5.0 (Windows NT 10.0; Win64; x64) AppleWebKit/537.36 (KHTML, like Gecko) Chrome/126.0.0.0 Safari/537.36\"\n",
    "}\n",
    "\n",
    "# Get the URL from the Excel file (assuming f_input is already defined)\n",
    "url = f_input.loc[7, 'Link']\n",
    "\n",
    "# Request the page\n",
    "page = requests.get(url, headers=headers)\n",
    "soup = BeautifulSoup(page.content, 'html.parser')\n",
    "soup=BeautifulSoup(soup.prettify(), \"html.parser\")\n",
    "\n",
    "# Find the product title\n",
    "product_title_elem = soup.find(id='productTitle')\n",
    "if product_title_elem:\n",
    "    product_title = product_title_elem.get_text(strip=True)\n",
    "    print(\"Product Title:\", product_title)\n",
    "else:\n",
    "    print(\"Product title not found.\")\n",
    "\n",
    "# Find the product price\n",
    "product_price_elem = soup.find(class_=\"a-price-whole\")\n",
    "if not product_price_elem:\n",
    "    product_price_elem = soup.find(class_='a-offscreen')\n",
    "\n",
    "if product_price_elem:\n",
    "    product_price = product_price_elem.get_text(strip=True)\n",
    "    print(\"Product price:\", product_price)\n",
    "else:\n",
    "    print(\"Product price not found.\")\n"
   ]
  },
  {
   "cell_type": "code",
   "execution_count": null,
   "id": "a461692a",
   "metadata": {},
   "outputs": [],
   "source": []
  },
  {
   "cell_type": "code",
   "execution_count": null,
   "id": "2b3d330c",
   "metadata": {},
   "outputs": [],
   "source": []
  },
  {
   "cell_type": "code",
   "execution_count": null,
   "id": "a77e3e04",
   "metadata": {},
   "outputs": [],
   "source": []
  },
  {
   "cell_type": "code",
   "execution_count": null,
   "id": "15e39a89",
   "metadata": {},
   "outputs": [],
   "source": []
  },
  {
   "cell_type": "code",
   "execution_count": null,
   "id": "d47407a9",
   "metadata": {},
   "outputs": [],
   "source": []
  },
  {
   "cell_type": "code",
   "execution_count": null,
   "id": "ae6982d6",
   "metadata": {},
   "outputs": [],
   "source": []
  },
  {
   "cell_type": "code",
   "execution_count": null,
   "id": "5e2300ee",
   "metadata": {},
   "outputs": [],
   "source": []
  },
  {
   "cell_type": "code",
   "execution_count": null,
   "id": "7f81cc82",
   "metadata": {},
   "outputs": [],
   "source": []
  },
  {
   "cell_type": "code",
   "execution_count": null,
   "id": "826b642e",
   "metadata": {},
   "outputs": [],
   "source": []
  },
  {
   "cell_type": "code",
   "execution_count": null,
   "id": "37c9bcd0",
   "metadata": {},
   "outputs": [],
   "source": []
  },
  {
   "cell_type": "code",
   "execution_count": null,
   "id": "c1c00a97",
   "metadata": {},
   "outputs": [],
   "source": []
  },
  {
   "cell_type": "code",
   "execution_count": null,
   "id": "09ed304b",
   "metadata": {},
   "outputs": [],
   "source": []
  },
  {
   "cell_type": "code",
   "execution_count": null,
   "id": "114b5728",
   "metadata": {},
   "outputs": [],
   "source": []
  },
  {
   "cell_type": "code",
   "execution_count": null,
   "id": "bc01aab9",
   "metadata": {},
   "outputs": [],
   "source": []
  },
  {
   "cell_type": "code",
   "execution_count": null,
   "id": "1784d9ca",
   "metadata": {},
   "outputs": [],
   "source": []
  },
  {
   "cell_type": "code",
   "execution_count": null,
   "id": "498c75e4",
   "metadata": {},
   "outputs": [],
   "source": []
  },
  {
   "cell_type": "code",
   "execution_count": null,
   "id": "835f90fc",
   "metadata": {},
   "outputs": [],
   "source": []
  },
  {
   "cell_type": "code",
   "execution_count": null,
   "id": "2448ff3d",
   "metadata": {},
   "outputs": [],
   "source": []
  },
  {
   "cell_type": "code",
   "execution_count": 4,
   "id": "b7eaae40",
   "metadata": {},
   "outputs": [],
   "source": [
    "price_elements = soup2.find_all(class_=lambda classes: classes and 'price' in ' '.join(classes))\n",
    "\n",
    "# Print each element found\n",
    "for elem in price_elements:\n",
    "    print(elem)"
   ]
  },
  {
   "cell_type": "code",
   "execution_count": null,
   "id": "0085c145",
   "metadata": {},
   "outputs": [],
   "source": []
  },
  {
   "cell_type": "code",
   "execution_count": 5,
   "id": "893836f7",
   "metadata": {},
   "outputs": [],
   "source": [
    "# Find all elements with class containing 'price'\n",
    "price_elements = soup2.find_all(class_=lambda classes: classes and 'price' in ' '.join(classes))\n",
    "\n",
    "# Print each element found\n",
    "for elem in price_elements:\n",
    "    print(elem)"
   ]
  },
  {
   "cell_type": "code",
   "execution_count": null,
   "id": "97395adb",
   "metadata": {},
   "outputs": [],
   "source": []
  },
  {
   "cell_type": "code",
   "execution_count": null,
   "id": "a7f77c7d",
   "metadata": {},
   "outputs": [],
   "source": []
  },
  {
   "cell_type": "code",
   "execution_count": null,
   "id": "85b21751",
   "metadata": {},
   "outputs": [],
   "source": []
  },
  {
   "cell_type": "code",
   "execution_count": null,
   "id": "2c2c22cf",
   "metadata": {},
   "outputs": [],
   "source": []
  },
  {
   "cell_type": "code",
   "execution_count": null,
   "id": "7312e934",
   "metadata": {},
   "outputs": [],
   "source": []
  },
  {
   "cell_type": "code",
   "execution_count": null,
   "id": "0999b311",
   "metadata": {},
   "outputs": [],
   "source": []
  },
  {
   "cell_type": "code",
   "execution_count": null,
   "id": "cfb7924d",
   "metadata": {},
   "outputs": [],
   "source": []
  },
  {
   "cell_type": "code",
   "execution_count": null,
   "id": "bce3c18b",
   "metadata": {},
   "outputs": [],
   "source": []
  },
  {
   "cell_type": "code",
   "execution_count": null,
   "id": "83334689",
   "metadata": {},
   "outputs": [],
   "source": []
  },
  {
   "cell_type": "code",
   "execution_count": null,
   "id": "6fff7c30",
   "metadata": {},
   "outputs": [],
   "source": []
  }
 ],
 "metadata": {
  "kernelspec": {
   "display_name": "Python 3 (ipykernel)",
   "language": "python",
   "name": "python3"
  },
  "language_info": {
   "codemirror_mode": {
    "name": "ipython",
    "version": 3
   },
   "file_extension": ".py",
   "mimetype": "text/x-python",
   "name": "python",
   "nbconvert_exporter": "python",
   "pygments_lexer": "ipython3",
   "version": "3.11.7"
  }
 },
 "nbformat": 4,
 "nbformat_minor": 5
}
